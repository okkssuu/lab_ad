{
 "cells": [
  {
   "cell_type": "markdown",
   "id": "d7589e76-0bd2-45d0-b1f8-1d5536baa273",
   "metadata": {},
   "source": [
    "# Лабораторна робота №2. Наука про дані: підготовчий етап.\n",
    "\n",
    "## Мета роботи: ознайомитися з основними кроками по роботі з даними – workflow від постановки задачі до написання пояснювальної записки, зрозуміти постановку задачі та природу даних, над якими виконується аналітичні операції.\n",
    "\n",
    "### Виконала студентка ФБ-23 - Присєвок Оксана"
   ]
  },
  {
   "cell_type": "markdown",
   "id": "10ce0824-2514-4731-b74f-46ea6b639465",
   "metadata": {},
   "source": [
    "#### Хід виконання"
   ]
  },
  {
   "cell_type": "code",
   "execution_count": 1,
   "id": "5fcff73e-9b69-48ed-90c4-8a1641ea3c7f",
   "metadata": {},
   "outputs": [],
   "source": [
    "import os\n",
    "import pandas as pd\n",
    "from datetime import datetime\n",
    "import urllib3"
   ]
  },
  {
   "cell_type": "code",
   "execution_count": 2,
   "id": "11a88381-74c5-469f-881b-ce1dd38e039b",
   "metadata": {},
   "outputs": [],
   "source": [
    "def main():\n",
    "    http = urllib3.PoolManager()\n",
    "    for i in range(1, 28):\n",
    "        url = f'https://www.star.nesdis.noaa.gov/smcd/emb/vci/VH/get_TS_admin.php?country=UKR&provinceID={i}&year1=1981&year2=2020&type=Mean'\n",
    "        response = http.request('GET', url)\n",
    "        text = response.data\n",
    "        now = datetime.now()\n",
    "        date_and_time_time = now.strftime(\"%d%m%Y%H%M%S\")\n",
    "        with open(f\"{PATH}NOAA_ID{i}_{date_and_time_time}.csv\", 'wb') as f:\n",
    "            f.write(text)\n",
    "            \n",
    "        if i == 1:\n",
    "            df = obl_read(f\"{PATH}NOAA_ID{i}_{date_and_time_time}.csv\", i)\n",
    "        else:\n",
    "            df = pd.concat([df, obl_read(f\"{PATH}NOAA_ID{i}_{date_and_time_time}.csv\", i)])\n",
    "        # print(obl_read(f\"{PATH}NOAA_ID{i}_{date_and_time_time}.csv\", i).head())\n",
    "\n",
    "    print(\"VHI is downloaded...\")\n",
    "    df.to_csv('complete_dataset.csv', encoding='utf-8')"
   ]
  },
  {
   "cell_type": "code",
   "execution_count": 3,
   "id": "c3b52488-4b3d-497c-b1cd-3f6a363f3c96",
   "metadata": {},
   "outputs": [],
   "source": [
    "names = {1: 'Вінницька', \n",
    "         2: 'Волинська',\n",
    "         3: 'Дніпропетровська',\n",
    "         4: 'Донецька',\n",
    "         5: 'Житомирська',\n",
    "         6: 'Закарпатська',\n",
    "         7: 'Запорізька',\n",
    "         8: 'Івано-Франківська',\n",
    "         9: 'Київська',\n",
    "         10: 'Кіровоградська',\n",
    "         11: 'Луганська',\n",
    "         12: 'Львівська',\n",
    "         13: 'Миколаївська',\n",
    "         14: 'Одеська',\n",
    "         15: 'Полтавська',\n",
    "         16: 'Рівенська',\n",
    "         17: 'Сумська',\n",
    "         18: 'Тернопільська',\n",
    "         19: 'Харківська',\n",
    "         20: 'Херсонська',\n",
    "         21: 'Хмельницька',\n",
    "         22: 'Черкаська',\n",
    "         23: 'Чернівецька',\n",
    "         24: 'Чернігівська',\n",
    "         25: 'Республіка Крим'}\n",
    "def change_region(df):\n",
    "    df['Region'] = df['Region'].map(names)\n",
    "    return df"
   ]
  },
  {
   "cell_type": "code",
   "execution_count": 4,
   "id": "d9cf6faf-c7ef-48e9-b5ce-51e4630a6e4d",
   "metadata": {},
   "outputs": [],
   "source": [
    "def obl_read(filename, i):\n",
    "    headers = ['Year', 'Week', 'SMN', 'SMT', 'VCI', 'TCI', 'VHI', 'empty']\n",
    "    df = pd.read_csv(filename, header=1, names=headers)  # read csv, create df\n",
    "    df.drop('empty', inplace=True, axis=1)  # drop empty column\n",
    "    df.drop(df.tail(1).index, inplace=True)  # drop last row\n",
    "    df['Year'] = df['Year'].replace(['<tt><pre>1982'], '1982')  # delete tags from first value\n",
    "    df = df.drop(df.loc[df['VHI'] == -1].index)  # drop all nan values\n",
    "    # df['region'] = i  # service reg number\n",
    "    # df['region'].replace({i: names[i]}, inplace=True)  # task reg number\n",
    "    return df"
   ]
  },
  {
   "cell_type": "markdown",
   "id": "2c574c8f-ade9-4dde-8a26-097e89d3ad50",
   "metadata": {},
   "source": [
    "##### Реалізувати процедури для формування вибірок наступного виду (включаючи елементи аналізу): Ряд VHI для області за вказаний рік, пошук екстремумів (min та max);"
   ]
  },
  {
   "cell_type": "code",
   "execution_count": 5,
   "id": "b019409b-9ba8-4a0b-afec-e9320f94e9c5",
   "metadata": {},
   "outputs": [
    {
     "ename": "NameError",
     "evalue": "name 'df' is not defined",
     "output_type": "error",
     "traceback": [
      "\u001b[1;31m---------------------------------------------------------------------------\u001b[0m",
      "\u001b[1;31mNameError\u001b[0m                                 Traceback (most recent call last)",
      "Cell \u001b[1;32mIn [5], line 23\u001b[0m\n\u001b[0;32m     21\u001b[0m     \u001b[38;5;28mprint\u001b[39m(\u001b[38;5;124m\"\u001b[39m\u001b[38;5;124mData:\u001b[39m\u001b[38;5;124m\"\u001b[39m)\n\u001b[0;32m     22\u001b[0m     \u001b[38;5;28mprint\u001b[39m(max_vhi_row)\n\u001b[1;32m---> 23\u001b[0m min_max_vhi(\u001b[43mdf\u001b[49m, Київська, \u001b[38;5;241m2005\u001b[39m)\n",
      "\u001b[1;31mNameError\u001b[0m: name 'df' is not defined"
     ]
    }
   ],
   "source": [
    "def min_max_vhi(df, region_name, year):\n",
    "    filtered_df = df[(df[\"region\"] == region_name) & (df[\"Year\"] == year)]\n",
    "    \n",
    "    if filtered_df.empty:\n",
    "        print(\"No data found for the specified area and year.\")\n",
    "        return\n",
    "    \n",
    "    min_vhi = filtered_df[\"VHI\"].min()\n",
    "    max_vhi = filtered_df[\"VHI\"].max()\n",
    "    \n",
    "    min_vhi_row = filtered_df[filtered_df[\"VHI\"] == min_vhi]\n",
    "    max_vhi_row = filtered_df[filtered_df[\"VHI\"] == max_vhi]\n",
    "    \n",
    "    print(\"Minimum VHI:\")\n",
    "    print(\"Value:\", min_vhi)\n",
    "    print(\"Data:\")\n",
    "    print(min_vhi_row)\n",
    "\n",
    "    print(\"Maximum VHI:\")\n",
    "    print(\"Value:\", max_vhi)\n",
    "    print(\"Data:\")\n",
    "    print(max_vhi_row)\n",
    "min_max_vhi(df, Київська, 2005)\n"
   ]
  },
  {
   "cell_type": "markdown",
   "id": "f7ea0334-00cd-4273-b308-cae70d071cb7",
   "metadata": {},
   "source": [
    "##### Ряд VHI за вказаний діапазон років для вказаних областей; виявити роки, протягом яких екстремальні посухи торкнулися більше вказаного відсотка областей по Україні (20% областей - 5 областей з 25); Аналогічно для помірних посух"
   ]
  },
  {
   "cell_type": "code",
   "execution_count": null,
   "id": "06b9e478-c722-4641-8d84-1425acb49d2d",
   "metadata": {},
   "outputs": [],
   "source": [
    "def find_drought_years(df, threshold_percent):\n",
    "    # Визначення порогових значень для екстремальних і помірних посух\n",
    "    extreme_drought_threshold = 10  # Порогове значення для екстремальних посух\n",
    "    moderate_drought_threshold = 20  # Порогове значення для помірних посух\n",
    "    \n",
    "    # Список унікальних років у даних\n",
    "    years = df['Year'].unique()\n",
    "    drought_years = []\n",
    "    \n",
    "    # Проходження по всім рокам\n",
    "    for year in years:\n",
    "        # Вибір даних за певний рік\n",
    "        year_data = df[df['Year'] == year]\n",
    "        \n",
    "        # Кількість областей, які відповідають умовам екстремальної та помірної посух\n",
    "        extreme_drought_count = year_data[year_data['VHI'] <= extreme_drought_threshold]['region'].nunique()\n",
    "        moderate_drought_count = year_data[year_data['VHI'] <= moderate_drought_threshold]['region'].nunique()\n",
    "        \n",
    "        # Перевірка, чи більше вказаного відсотка областей мають екстремальні або помірні посухи\n",
    "        if extreme_drought_count / 25 >= threshold_percent:\n",
    "            drought_years.append((year, 'Extreme Drought'))\n",
    "        elif moderate_drought_count / 25 >= threshold_percent:\n",
    "            drought_years.append((year, 'Moderate Drought'))\n",
    "    \n",
    "    return drought_years\n"
   ]
  }
 ],
 "metadata": {
  "kernelspec": {
   "display_name": "Python 3 (ipykernel)",
   "language": "python",
   "name": "python3"
  },
  "language_info": {
   "codemirror_mode": {
    "name": "ipython",
    "version": 3
   },
   "file_extension": ".py",
   "mimetype": "text/x-python",
   "name": "python",
   "nbconvert_exporter": "python",
   "pygments_lexer": "ipython3",
   "version": "3.10.7"
  }
 },
 "nbformat": 4,
 "nbformat_minor": 5
}
